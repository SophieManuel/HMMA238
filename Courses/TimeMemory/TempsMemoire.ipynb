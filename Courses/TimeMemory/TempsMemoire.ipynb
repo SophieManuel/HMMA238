{
 "cells": [
  {
   "cell_type": "markdown",
   "metadata": {
    "hide_input": false
   },
   "source": [
    "# Efficacité en temps, mémoire et matrices sparse\n",
    "\n",
    "***\n",
    "> __Auteur__: Joseph Salmon <joseph.salmon@umontpellier.fr>"
   ]
  },
  {
   "cell_type": "code",
   "execution_count": null,
   "metadata": {},
   "outputs": [],
   "source": [
    "import time\n",
    "import numpy as np\n",
    "import matplotlib.pyplot as plt"
   ]
  },
  {
   "cell_type": "markdown",
   "metadata": {},
   "source": [
    "## Temps et calcul: utilisation de `%timeit`\n",
    "Remarque pour d'autres commandes *magiques* comme %timeit, %matplotlib, %autoreload:\n",
    "\n",
    "cf. https://ipython.org/ipython-doc/3/interactive/magics.html#magic-pdb"
   ]
  },
  {
   "cell_type": "code",
   "execution_count": null,
   "metadata": {},
   "outputs": [],
   "source": [
    "n  = 1000\n",
    "val = 5.4"
   ]
  },
  {
   "cell_type": "code",
   "execution_count": null,
   "metadata": {},
   "outputs": [],
   "source": [
    "%timeit a = np.empty(n); a.fill(val)"
   ]
  },
  {
   "cell_type": "code",
   "execution_count": null,
   "metadata": {},
   "outputs": [],
   "source": [
    "%timeit a = np.empty(n); a[:] = val"
   ]
  },
  {
   "cell_type": "code",
   "execution_count": null,
   "metadata": {},
   "outputs": [],
   "source": [
    "%timeit a = np.full((n,), val)"
   ]
  },
  {
   "cell_type": "code",
   "execution_count": null,
   "metadata": {},
   "outputs": [],
   "source": [
    "%timeit a = np.ones(n) * val"
   ]
  },
  {
   "cell_type": "code",
   "execution_count": null,
   "metadata": {},
   "outputs": [],
   "source": [
    "%timeit a = np.repeat(val, n)"
   ]
  },
  {
   "cell_type": "markdown",
   "metadata": {},
   "source": [
    "## Alternatives\n",
    "Ce type de diagnostic temporel peut être aussi fait avec le package `time`, chargé par\n",
    "\n",
    "```import time```\n"
   ]
  },
  {
   "cell_type": "code",
   "execution_count": null,
   "metadata": {},
   "outputs": [],
   "source": [
    "import time\n",
    "\n",
    "start = time.time()\n",
    "a = np.ones(n)*val\n",
    "end = time.time()\n",
    "\n",
    "print(\"Temps passé pour exécuter la commande: {0:.5f} s.\".format(end - start))"
   ]
  },
  {
   "cell_type": "markdown",
   "metadata": {},
   "source": [
    "## For more on profiling\n",
    "\n",
    "In Python `snakeviz` could help, see https://jiffyclub.github.io/snakeviz/\n",
    "\n",
    "In R, `profvis` is equivalent, see https://rstudio.github.io/profvis/"
   ]
  },
  {
   "cell_type": "markdown",
   "metadata": {},
   "source": [
    "## Debogage : package `pdb`\n",
    "Insipiré du site: https://davidhamann.de/2017/04/22/debugging-jupyter-notebooks/\n",
    "On va utiliser  `import pdb; pdb.set_trace()` pour rentrer dans un code et requêter les informations des valeurs. Enfin pour continuer le code entre `c` et la touche `enter`.\n",
    "\n",
    "On peut consulter aussi:\n",
    "https://www.codementor.io/stevek/advanced-python-debugging-with-pdb-g56gvmpfa."
   ]
  },
  {
   "cell_type": "markdown",
   "metadata": {},
   "source": [
    "Une première manière de procéder est d'utiliser `pdb` et la commande `pdb.set_trace()` de ce package. Une invite de commande se lance alors quand on a un soucis, et on peut alors reprendre la main voir ce qu'il se passe.\n",
    "\n",
    "On pourra consulter les raccourcis clavier (e.g., touche c, touche j etc) ici: https://docs.python.org/3/library/pdb.html)"
   ]
  },
  {
   "cell_type": "code",
   "execution_count": null,
   "metadata": {},
   "outputs": [],
   "source": [
    "def illustrate_pdb(x):\n",
    "    answer = 42\n",
    "    import pdb; pdb.set_trace()\n",
    "    answer += x\n",
    "    \n",
    "    return answer\n",
    "\n",
    "illustrate_pdb(12)"
   ]
  },
  {
   "cell_type": "markdown",
   "metadata": {},
   "source": [
    "Une autre manière de procéder est d'allumer le debogueur `pdb`. Une invite de commande se lance alors quand on a un soucis, et on peut alors reprendre la main voir ce qu'il se passe."
   ]
  },
  {
   "cell_type": "code",
   "execution_count": null,
   "metadata": {},
   "outputs": [],
   "source": [
    "%pdb"
   ]
  },
  {
   "cell_type": "code",
   "execution_count": null,
   "metadata": {},
   "outputs": [],
   "source": [
    "def blobl_func(x):\n",
    "    answer = 0\n",
    "    for i in range(x,-1,-1):\n",
    "        print(i)\n",
    "        answer += 1 / i\n",
    "    \n",
    "    return answer"
   ]
  },
  {
   "cell_type": "code",
   "execution_count": null,
   "metadata": {},
   "outputs": [],
   "source": [
    "blobl_func(4)"
   ]
  },
  {
   "cell_type": "markdown",
   "metadata": {},
   "source": [
    "# Matrices creuses, graphes et mémoire\n",
    "\n",
    "L'intérêt des matrices creuses est de pouvoir manipuler des matrices, potentiellement énormes, mais qui ont un nombre de coefficients non nuls très petit devant les nombres d'entrées de la matrice, par exemple moins de 1%.\n",
    "\n",
    "http://scipy-lectures.org/advanced/scipy_sparse/introduction.html#why-sparse-matrices\n",
    "\n",
    "https://rushter.com/blog/scipy-sparse-matrices/\n",
    "\n",
    "http://cmdlinetips.com/2018/03/sparse-matrices-in-python-with-scipy/\n",
    "\n",
    "**Examples**:\n",
    "\n",
    "- natural language processing: we encode the presence of a word from a dictionary (let's say the set of French words) and we put 0 / 1 in case of absence / presence of a word.\n",
    "- the discretization of a physical system where very distant influences are set to zero (e.g. heat diffusion, fluid mechanics, electro/magnetism, etc.)\n",
    "- graphs: graphs are naturally represented by adjacency or incidence matrices (cf. below), and therefore beyond the graphs, maps!"
   ]
  },
  {
   "cell_type": "code",
   "execution_count": null,
   "metadata": {},
   "outputs": [],
   "source": [
    "from scipy.sparse import isspmatrix "
   ]
  },
  {
   "cell_type": "code",
   "execution_count": null,
   "metadata": {},
   "outputs": [],
   "source": [
    "# Testing when a matrix is sparse or not:\n",
    "nx, ny = (50, 20)\n",
    "x = np.linspace(0, 1, nx)\n",
    "y = np.linspace(0, 1, ny)\n",
    "xv, yv = np.meshgrid(x, y, sparse=True)\n",
    "# print(xv)\n",
    "print(yv)\n",
    "isspmatrix(yv)\n",
    "x = np.arange(-5, 5, 0.1)\n",
    "y = np.arange(-5, 5, 0.1)\n",
    "xx, yy = np.meshgrid(x, y, sparse=True)\n",
    "z = np.sin(xx**2 + yy**2) / (xx**2 + yy**2)\n",
    "h = plt.contourf(x,y,z)\n",
    "plt.show()"
   ]
  },
  {
   "cell_type": "markdown",
   "metadata": {},
   "source": [
    "## Graphs and sparsity\n",
    "\n",
    "Un cadre classique d'application des matrices creuses est le cadre des graphes: bien que le nombre de noeuds puissent être énorme, chaque noeud d'un graphe n'est en général pas relié à tous ses voisins. Si on représente un graphe par sa matrice d'adjacence:"
   ]
  },
  {
   "cell_type": "markdown",
   "metadata": {},
   "source": [
    "## Définition: *matrice d'adjacence*:\n",
    "Supposons que $G=(V,E)$ est un graphe, où $\\left|V\\right|=n$.\n",
    "Supposons que les sommets de $G$ sont numérotés arbitrairement $v_1,\\ldots,v_n$. \n",
    "La matrice d'adjacence $A$ de $G$ est la matrice $n \\times n$ de terme général:\n",
    "\n",
    "$$a_{ij}=\\left\\{\\begin{array}{rl}\n",
    "\t1 & \\mbox{si } (v_i,v_j) \\in E \\\\\n",
    "        0 & \\mbox{sinon.}\n",
    "\\end{array}\\right.$$\n"
   ]
  },
  {
   "cell_type": "code",
   "execution_count": null,
   "metadata": {},
   "outputs": [],
   "source": [
    "import networkx as nx"
   ]
  },
  {
   "cell_type": "code",
   "execution_count": null,
   "metadata": {},
   "outputs": [],
   "source": [
    "nx.__version__"
   ]
  },
  {
   "cell_type": "code",
   "execution_count": null,
   "metadata": {},
   "outputs": [],
   "source": [
    "G = nx.Graph()\n",
    "G.add_edge('A', 'B', weight=4)\n",
    "G.add_edge('B', 'D', weight=2)\n",
    "G.add_edge('A', 'C', weight=3)\n",
    "G.add_edge('C', 'D', weight=4)\n",
    "G.add_edge('D', 'A', weight=2)\n",
    "\n",
    "nx.draw_networkx(G, with_labels=True)\n",
    "plt.axis('off')\n",
    "plt.show()"
   ]
  },
  {
   "cell_type": "code",
   "execution_count": null,
   "metadata": {},
   "outputs": [],
   "source": [
    "A = nx.adjacency_matrix(G)\n",
    "print(A.todense())"
   ]
  },
  {
   "cell_type": "code",
   "execution_count": null,
   "metadata": {},
   "outputs": [],
   "source": [
    "nx.shortest_path(G, 'A', 'D', weight='weight')"
   ]
  },
  {
   "cell_type": "markdown",
   "metadata": {},
   "source": [
    "## Définition : *matrice d'incidence*\n",
    "Soit $G = (V,E)$ un graphe (non-orienté) à $n$ sommets, $V = [1,\\dots,n] $, et $p$ arrêtes, $E = [1,\\dots,p]$.\n",
    "Le graphe peut être représenté par sa matrice d'incidence arrête-sommet $D^\\top \\in \\mathbb{R}^{p \\times n}$ défini par\n",
    "\\begin{equation}\n",
    "  (D^\\top)_{e,v} =\n",
    "  \\begin{cases}\n",
    "    + 1, & \\text{si } v = \\min(i,j) \\\\\n",
    "    -1, & \\text{si } v = \\max(i,j) \\\\\n",
    "    0, & \\text{sinon}\n",
    "  \\end{cases}\\enspace,\n",
    "\\end{equation}\n",
    "où $e = \\{i,j\\}$."
   ]
  },
  {
   "cell_type": "markdown",
   "metadata": {},
   "source": [
    "## Définition : *matrice d'incidence*\n",
    "\n",
    "The matrix $L=D D^\\top$ is the so-called graph Laplacian of $G$\n"
   ]
  },
  {
   "cell_type": "code",
   "execution_count": null,
   "metadata": {},
   "outputs": [],
   "source": [
    "D = nx.incidence_matrix(G, oriented=True).T\n",
    "print(D.todense())"
   ]
  },
  {
   "cell_type": "markdown",
   "metadata": {},
   "source": [
    "## Visualisation interactive de graphe\n"
   ]
  },
  {
   "cell_type": "code",
   "execution_count": null,
   "metadata": {},
   "outputs": [],
   "source": [
    "import matplotlib.pylab as plt\n",
    "g = nx.karate_club_graph()\n",
    "fig, ax = plt.subplots(1, 1, figsize=(8, 6));\n",
    "nx.draw_networkx(g, ax=ax)\n",
    "plt.axis('off')\n",
    "plt.show()"
   ]
  },
  {
   "cell_type": "markdown",
   "metadata": {},
   "source": [
    "### Possible visualisation with Javascript... not so stable..."
   ]
  },
  {
   "cell_type": "code",
   "execution_count": null,
   "metadata": {},
   "outputs": [],
   "source": [
    "# https://andrewmellor.co.uk/blog/articles/2014/12/14/d3-networks/\n",
    "# https://github.com/brandomr/ner2sna\n",
    "# REMARQUE: il faut télécharger les fichiers:\n",
    "# force.css, force.html, force.js pour l'affichage suivant\n",
    "from networkx.readwrite import json_graph\n",
    "import json\n",
    "# Load the graph from a json file:\n",
    "with open('force.json') as h:\n",
    "    js_graph = json.load(h)"
   ]
  },
  {
   "cell_type": "code",
   "execution_count": null,
   "metadata": {},
   "outputs": [],
   "source": [
    "from IPython.display import HTML"
   ]
  },
  {
   "cell_type": "code",
   "execution_count": null,
   "metadata": {},
   "outputs": [],
   "source": [
    "%%HTML\n",
    "\n",
    "<iframe height=400px width=100% src='force.html'></iframe>"
   ]
  },
  {
   "cell_type": "markdown",
   "metadata": {},
   "source": [
    "# Graphe et cartes planaires:\n",
    "Open Street Map interfaced with Networkx, using  the package `osmnx`:\n",
    "\n",
    "!!! Known bug:\n",
    "\n",
    "https://stackoverflow.com/questions/59658167/cannot-import-name-crs-from-pyproj-for-using-the-osmnx-library\n",
    "and \n",
    "https://stackoverflow.com/questions/60312055/python-getting-typeerror-argument-of-type-crs-is-not-iterable-with-osmnx\n",
    "\n",
    "so pick version 0.14 at least\n",
    "\n",
    "```conda install osmnx>=0.14```\n",
    "\n",
    "or\n",
    "\n",
    "```pip install osmnx>=0.10```\n",
    "\n",
    "\n",
    "\n",
    "For Windows users there might be some trouble with installing the `fiona` package, see:\n",
    "https://stackoverflow.com/questions/54734667/error-installing-geopandas-a-gdal-api-version-must-be-specified-in-anaconda\n",
    "and \n",
    "https://jingwen-z.github.io/how-to-install-python-module-fiona-on-windows-os/\n",
    "\n",
    "\n",
    "Special case for `osmnx` on `Windows` follow the next step in order:\n",
    "* `pip install osmnx`\n",
    "* `pip install Rtree`\n",
    "* `conda install -c conda-forge libspatialindex=1.9.3`\n",
    "* `pip install osmnx`\n",
    "\n",
    "* Install all packages required up to `fiona`.\n",
    "* `conda install -c conda-forge geopandas`\n",
    "* say yes to everything\n",
    "* Once done,  launch `pip install osmnx==0.10`\n",
    "\n",
    "You will also need to install the package `folium`"
   ]
  },
  {
   "cell_type": "code",
   "execution_count": null,
   "metadata": {},
   "outputs": [],
   "source": [
    "import folium"
   ]
  },
  {
   "cell_type": "code",
   "execution_count": null,
   "metadata": {},
   "outputs": [],
   "source": [
    "map_osm = folium.Map(location=[43.610769, 3.876716])"
   ]
  },
  {
   "cell_type": "code",
   "execution_count": null,
   "metadata": {},
   "outputs": [],
   "source": [
    "map_osm.add_child(folium.RegularPolygonMarker(location=[43.610769, 3.876716], fill_color='#132b5e', radius=5))\n",
    "map_osm"
   ]
  },
  {
   "cell_type": "code",
   "execution_count": null,
   "metadata": {},
   "outputs": [],
   "source": [
    "import osmnx as ox\n",
    "ox.utils.config(use_cache=True) # caching large download \n",
    "ox.__version__"
   ]
  },
  {
   "cell_type": "code",
   "execution_count": null,
   "metadata": {},
   "outputs": [],
   "source": [
    "G = ox.graph_from_place('Montpellier, France', network_type='bike')"
   ]
  },
  {
   "cell_type": "code",
   "execution_count": null,
   "metadata": {},
   "outputs": [],
   "source": [
    "ox.plot_graph(G)"
   ]
  },
  {
   "cell_type": "code",
   "execution_count": null,
   "metadata": {},
   "outputs": [],
   "source": [
    "print(G.number_of_edges())\n",
    "print(G.number_of_nodes())"
   ]
  },
  {
   "cell_type": "markdown",
   "metadata": {},
   "source": [
    "# Visualisation d'un chemin le plus court entre deux points."
   ]
  },
  {
   "cell_type": "code",
   "execution_count": null,
   "metadata": {},
   "outputs": [],
   "source": [
    "# https://blog.ouseful.info/2018/06/29/working-with-openstreetmap-roads-data-using-osmnx/\n",
    "origin = ox.utils.geocode('Place Eugène Bataillon, Montpellier, France')\n",
    "destination = ox.utils.geocode('Maison du Lez, Montpellier, France')\n",
    "\n",
    "origin_node = ox.get_nearest_node(G, origin)\n",
    "destination_node = ox.get_nearest_node(G, destination)\n",
    "\n",
    "print(origin)\n",
    "print(destination)\n",
    "route = nx.shortest_path(G, origin_node, destination_node)  #XXX double check if weights are taken into account. "
   ]
  },
  {
   "cell_type": "code",
   "execution_count": null,
   "metadata": {},
   "outputs": [],
   "source": [
    "ox.plot_graph_route(G, route)"
   ]
  },
  {
   "cell_type": "code",
   "execution_count": null,
   "metadata": {},
   "outputs": [],
   "source": [
    "ox.plot_route_folium(G, route, route_width=2, route_color='#AA1111')  # adapté de : https://blog.ouseful.info/2018/06/29/working-with-openstreetmap-roads-data-using-osmnx/"
   ]
  },
  {
   "cell_type": "code",
   "execution_count": null,
   "metadata": {},
   "outputs": [],
   "source": [
    "G.is_multigraph()"
   ]
  },
  {
   "cell_type": "code",
   "execution_count": null,
   "metadata": {},
   "outputs": [],
   "source": [
    "edges = ox.graph_to_gdfs(G, nodes=False, edges=True)\n",
    "nodes = ox.graph_to_gdfs(G, nodes=True, edges=False)\n",
    "# Check columns\n",
    "print(edges.columns)\n",
    "print(nodes.columns)"
   ]
  },
  {
   "cell_type": "code",
   "execution_count": null,
   "metadata": {},
   "outputs": [],
   "source": [
    "D = nx.incidence_matrix(G, oriented=True).T"
   ]
  },
  {
   "cell_type": "code",
   "execution_count": null,
   "metadata": {},
   "outputs": [],
   "source": [
    "print('Size of full matrix with zeros: {0:3.2f}  MB'.format(D.data.nbytes/(1024**2)))"
   ]
  },
  {
   "cell_type": "code",
   "execution_count": null,
   "metadata": {},
   "outputs": [],
   "source": [
    "print(isspmatrix(D))\n",
    "D"
   ]
  },
  {
   "cell_type": "markdown",
   "metadata": {},
   "source": [
    "**Alterntively**: you can uncomment the following line, and check that the size of a similar matrix, with non-sparse format would be\n",
    "\n",
    "```>>> Size of full matrix with zeros: 1677.47  MB```"
   ]
  },
  {
   "cell_type": "code",
   "execution_count": null,
   "metadata": {},
   "outputs": [],
   "source": [
    "# # Creation d'une matrice de meme taille\n",
    "# # BEWARE CREATE HUGE MATRIX:\n",
    "# M = np.random.randn(G.number_of_nodes(), G.number_of_nodes())\n",
    "# print('Size of full matrix with zeros: {0:3.2f}  MB'.format(M.nbytes/(1024**2)))"
   ]
  },
  {
   "cell_type": "code",
   "execution_count": null,
   "metadata": {},
   "outputs": [],
   "source": []
  },
  {
   "cell_type": "markdown",
   "metadata": {},
   "source": [
    "## Sparsité du graphe"
   ]
  },
  {
   "cell_type": "code",
   "execution_count": null,
   "metadata": {},
   "outputs": [],
   "source": [
    "print(\"Il a {0:.2} % d'arrêtes utlile pour représenter le graphe de la ville de Montpellier\".format(100 * G.number_of_edges() / G.number_of_nodes() ** 2))"
   ]
  },
  {
   "cell_type": "markdown",
   "metadata": {},
   "source": [
    "### Remarques : divers type de matrices creuses:\n",
    "\n",
    "1. bsr_matrix: Block Sparse Row matrix\n",
    "1. coo_matrix: COOrdinate format matrix\n",
    "1. csc_matrix: Compressed Sparse Column matrix\n",
    "1. csr_matrix: Compressed Sparse Row matrix\n",
    "1. dia_matrix: Sparse matrix with DIAgonal storage\n",
    "1. dok_matrix: Dictionary Of Keys based sparse matrix.\n",
    "1. lil_matrix: Row-based linked list sparse matrix\n",
    "\n",
    "\n",
    "Selon la nature et la structure des données, `csc_matrix` est plus efficace pour le `slicing` par colonne, alors que csr_matrix est plus efficace pour le cas ligne."
   ]
  },
  {
   "cell_type": "markdown",
   "metadata": {
    "collapsed": true
   },
   "source": [
    "# Pour aller plus loin sur la visualisation de graphes géographiques:\n",
    "\n",
    "1. https://geoffboeing.com/2016/11/osmnx-python-street-networks/\n",
    "1. https://automating-gis-processes.github.io/2017/lessons/L7/network-analysis.html\n",
    "1. https://automating-gis-processes.github.io/2018/"
   ]
  },
  {
   "cell_type": "code",
   "execution_count": null,
   "metadata": {},
   "outputs": [],
   "source": [
    "import geopandas"
   ]
  },
  {
   "cell_type": "code",
   "execution_count": null,
   "metadata": {},
   "outputs": [],
   "source": [
    "df = geopandas.read_file(geopandas.datasets.get_path('nybb'))\n",
    "ax = df.plot(figsize=(10, 10), alpha=0.5, edgecolor='k')\n",
    "plt.show()"
   ]
  }
 ],
 "metadata": {
  "hide_input": false,
  "kernelspec": {
   "display_name": "Python 3",
   "language": "python",
   "name": "python3"
  },
  "language_info": {
   "codemirror_mode": {
    "name": "ipython",
    "version": 3
   },
   "file_extension": ".py",
   "mimetype": "text/x-python",
   "name": "python",
   "nbconvert_exporter": "python",
   "pygments_lexer": "ipython3",
   "version": "3.8.5"
  },
  "toc": {
   "base_numbering": 1,
   "nav_menu": {},
   "number_sections": false,
   "sideBar": true,
   "skip_h1_title": false,
   "title_cell": "Table of Contents",
   "title_sidebar": "Contents",
   "toc_cell": false,
   "toc_position": {
    "height": "396px",
    "left": "0px",
    "right": "779.267px",
    "top": "106px",
    "width": "209px"
   },
   "toc_section_display": "block",
   "toc_window_display": true
  }
 },
 "nbformat": 4,
 "nbformat_minor": 2
}
